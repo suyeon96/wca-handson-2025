{
 "cells": [
  {
   "cell_type": "markdown",
   "metadata": {},
   "source": [
    "#### Open terminal\n",
    "\n",
    "1. Check if python is installed:\n",
    "    - python --version\n",
    "    - python3 --version\n",
    "\n",
    "2. Install python, if not present:\n",
    "    - macOS (https://www.python.org/downloads/macos/)\n",
    "    - windows (https://www.python.org/downloads/windows/)\n",
    "\n",
    "3. Install Flask\n",
    "    - pip install flask\n",
    "\n",
    "4. Switch to **python-todo-app** directory\n",
    "    - cd <path/to/dir>/5-wca-api-python-to-java-migration/python-todo-app\n",
    "\n",
    "5. Start the application\n",
    "    - python3 app.py \n",
    "\n",
    "6. Open the following URL from browser\n",
    "    - http://127.0.0.1:5000\n",
    "\n",
    "7. Once the flask app is running, you will see the following todo list app as shown below:\n",
    "\n",
    "    - <img src=\"./images/python-todo-app.png\" width=\"200\">\n",
    "\n",
    "8. Yon can add new task post which you can see the **tasks.json** file being updated, present in:\n",
    "    - ./python-todo-app/tasks.json\n",
    "\n",
    "We will be modernizing this app from python based flask framework into springboot using WCA API in **lab-1-wca-api-migration.ipynb**\n",
    "\n",
    "\n"
   ]
  },
  {
   "cell_type": "markdown",
   "metadata": {},
   "source": [
    "#### "
   ]
  }
 ],
 "metadata": {
  "kernelspec": {
   "display_name": "Python 3",
   "language": "python",
   "name": "python3"
  },
  "language_info": {
   "codemirror_mode": {
    "name": "ipython",
    "version": 3
   },
   "file_extension": ".py",
   "mimetype": "text/x-python",
   "name": "python",
   "nbconvert_exporter": "python",
   "pygments_lexer": "ipython3",
   "version": "3.11.6"
  }
 },
 "nbformat": 4,
 "nbformat_minor": 2
}
