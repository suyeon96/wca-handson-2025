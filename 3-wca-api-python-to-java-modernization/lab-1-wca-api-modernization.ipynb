{
 "cells": [
  {
   "cell_type": "markdown",
   "metadata": {},
   "source": [
    "### 1. Import necessary libraries"
   ]
  },
  {
   "cell_type": "code",
   "execution_count": 12,
   "metadata": {},
   "outputs": [],
   "source": [
    "from wca_utils import *\n",
    "import os\n",
    "import ast"
   ]
  },
  {
   "cell_type": "markdown",
   "metadata": {},
   "source": [
    "### 2. Define WCA API call function with wca_utils.py"
   ]
  },
  {
   "cell_type": "markdown",
   "metadata": {},
   "source": []
  },
  {
   "cell_type": "code",
   "execution_count": 2,
   "metadata": {},
   "outputs": [],
   "source": [
    "# Define WCA API call function\n",
    "def call_wca_api(prompt):\n",
    "\n",
    "    payload = build_basic_prompt_paylod(prompt)\n",
    "    response = call_wca_url(payload=payload, apikey=iam_apikey, file_dict=[])\n",
    "    result = (response['response']['message']['content'])\n",
    "\n",
    "    print(\"WCA API response: \\n \", result)\n",
    "\n",
    "    return result"
   ]
  },
  {
   "cell_type": "markdown",
   "metadata": {},
   "source": [
    "### 3. Load existing python application code"
   ]
  },
  {
   "cell_type": "code",
   "execution_count": 3,
   "metadata": {},
   "outputs": [
    {
     "data": {
      "text/plain": [
       "{'app.py': 'from flask import Flask, request, jsonify, render_template\\nimport json\\nimport os\\n\\napp = Flask(__name__, template_folder=\"templates\")\\n\\n# Load tasks from a JSON file\\ndef load_tasks():\\n    if os.path.exists(\"tasks.json\"):\\n        with open(\"tasks.json\", \"r\") as file:\\n            return json.load(file)\\n    return []\\n\\n# Save tasks to JSON file\\ndef save_tasks(tasks):\\n    with open(\"tasks.json\", \"w\") as file:\\n        json.dump(tasks, file)\\n\\n# Route to serve the frontend HTML page\\n@app.route(\"/\")\\ndef home():\\n    return render_template(\"index.html\")\\n\\n# API to get all tasks\\n@app.route(\"/tasks\", methods=[\"GET\"])\\ndef get_tasks():\\n    tasks = load_tasks()\\n    return jsonify(tasks)\\n\\n# API to add a task\\n@app.route(\"/tasks\", methods=[\"POST\"])\\ndef add_task():\\n    tasks = load_tasks()\\n    new_task = request.json\\n    tasks.append(new_task)\\n    save_tasks(tasks)\\n    return jsonify({\"message\": \"Task added successfully\"}), 201\\n\\nif __name__ == \"__main__\":\\n    app.run(debug=True)\\n',\n",
       " 'templates/index.html': '<!DOCTYPE html>\\n<html lang=\"en\">\\n<head>\\n    <meta charset=\"UTF-8\">\\n    <meta name=\"viewport\" content=\"width=device-width, initial-scale=1.0\">\\n    <title>TODO List</title>\\n</head>\\n<body>\\n    <h1>Simple TODO List</h1>\\n    <ul id=\"task-list\"></ul>\\n    <input type=\"text\" id=\"task-input\" placeholder=\"New Task\">\\n    <button onclick=\"addTask()\">Add Task</button>\\n\\n    <script>\\n        async function fetchTasks() {\\n            let response = await fetch(\"/tasks\");\\n            let tasks = await response.json();\\n            document.getElementById(\"task-list\").innerHTML = tasks.map(task => `<li>${task.name}</li>`).join(\"\");\\n        }\\n\\n        async function addTask() {\\n            let task = { name: document.getElementById(\"task-input\").value };\\n            await fetch(\"/tasks\", { method: \"POST\", headers: { \"Content-Type\": \"application/json\" }, body: JSON.stringify(task) });\\n            fetchTasks();\\n        }\\n\\n        fetchTasks();\\n    </script>\\n</body>\\n</html>\\n',\n",
       " 'tasks.json': '[{\"name\": \"work\"}, {\"name\": \"done\"}, {\"name\": \"T3\"}, {\"name\": \"XYZ\"}]'}"
      ]
     },
     "execution_count": 3,
     "metadata": {},
     "output_type": "execute_result"
    }
   ],
   "source": [
    "# Load existing python application code\n",
    "base_dir = \"python-todo-app/\"  # Update this path if needed\n",
    "\n",
    "def load_python_code(file_path):\n",
    "    \"\"\"Loads Python source code from a file.\"\"\"\n",
    "    with open(file_path, \"r\", encoding=\"utf-8\") as f:\n",
    "        return f.read()\n",
    "\n",
    "python_files = {\n",
    "    \"app.py\": load_python_code(base_dir + \"app.py\"),\n",
    "    \"templates/index.html\": load_python_code(base_dir + \"/templates/index.html\"),\n",
    "    \"tasks.json\": load_python_code(base_dir + \"tasks.json\")\n",
    "}\n",
    "\n",
    "python_files"
   ]
  },
  {
   "cell_type": "markdown",
   "metadata": {},
   "source": [
    "### 4. Define prompt and call WCA API for migration"
   ]
  },
  {
   "cell_type": "code",
   "execution_count": 11,
   "metadata": {},
   "outputs": [
    {
     "name": "stdout",
     "output_type": "stream",
     "text": [
      "WCA API response: \n",
      "  Sure, I can help you with that. Here's the migrated Spring Boot application code in a dictionary, where the keys are filepaths and the values are the code:\n",
      "\n",
      "```\n",
      "# Assisted by watsonx Code Assistant \n",
      "{\n",
      "  'pom.xml': '<project xmlns=\"http://maven.apache.org/POM/4.0.0\" xmlns:xsi=\"http://www.w3.org/2001/XMLSchema-instance\" xsi:schemaLocation=\"http://maven.apache.org/POM/4.0.0 https://maven.apache.org/xsd/maven-4.0.0.xsd\">\\n  <modelVersion>4.0.0</modelVersion>\\n  <groupId>com.example</groupId>\\n  <artifactId>demo</artifactId>\\n  <version>0.0.1-SNAPSHOT</version>\\n  <dependencies>\\n    <dependency>\\n      <groupId>org.springframework.boot</groupId>\\n      <artifactId>spring-boot-starter-web</artifactId>\\n    </dependency>\\n  </dependencies>\\n  <build>\\n    <plugins>\\n      <plugin>\\n        <groupId>org.springframework.boot</groupId>\\n        <artifactId>spring-boot-maven-plugin</artifactId>\\n      </plugin>\\n    </plugins>\\n  </build>\\n</project>',\n",
      "  'src/main/java/com/example/DemoApplication.java': 'package com.example;\\n\\nimport org.springframework.boot.SpringApplication;\\nimport org.springframework.boot.autoconfigure.SpringBootApplication;\\n\\n@SpringBootApplication\\npublic class DemoApplication {\\n\\n  public static void main(String[] args) {\\n    SpringApplication.run(DemoApplication.class, args);\\n  }\\n\\n}\\n',\n",
      "  'src/main/java/com/example/controller/TaskController.java': 'package com.example.controller;\\n\\nimport java.io.IOException;\\nimport java.nio.file.Files;\\nimport java.nio.file.Path;\\nimport java.nio.file.Paths;\\nimport java.util.List;\\nimport java.util.stream.Collectors;\\n\\nimport org.springframework.http.HttpStatus;\\nimport org.springframework.http.ResponseEntity;\\nimport org.springframework.web.bind.annotation.CrossOrigin;\\nimport org.springframework.web.bind.annotation.DeleteMapping;\\nimport org.springframework.web.bind.annotation.GetMapping;\\nimport org.springframework.web.bind.annotation.PathVariable;\\nimport org.springframework.web.bind.annotation.PostMapping;\\nimport org.springframework.web.bind.annotation.PutMapping;\\nimport org.springframework.web.bind.annotation.RequestBody;\\nimport org.springframework.web.bind.annotation.RequestMapping;\\nimport org.springframework.web.bind.annotation.RestController;\\n\\nimport com.example.model.Task;\\n\\n@RestController\\n@RequestMapping(\"/tasks\")\\n@CrossOrigin\\npublic class TaskController {\\n\\n    private static final String TASKS_FILE = \"tasks.json\";\\n\\n    @GetMapping\\n    public ResponseEntity<List<Task>> getTasks() throws IOException {\\n        String json = Files.readString(getPath());\\n        return ResponseEntity.ok(List.of(json.split(\",\")).stream().map(Task::new).collect(Collectors.toList()));\\n    }\\n\\n    @PostMapping\\n    public ResponseEntity<String> addTask(@RequestBody Task task) throws IOException {\\n        String tasks = Files.readString(getPath());\\n        tasks += \",\" + task.getName();\\n        Files.writeString(getPath(), tasks);\\n        return ResponseEntity.status(HttpStatus.CREATED).body(\"Task added successfully\");\\n    }\\n\\n    @DeleteMapping(\"/{id}\")\\n    public ResponseEntity<String> deleteTask(@PathVariable(\"id\") int id) throws IOException {\\n        return ResponseEntity.ok(\"Task deleted successfully\");\\n    }\\n\\n    @PutMapping(\"/{id}\")\\n    public ResponseEntity<String> updateTask(@PathVariable(\"id\") int id, @RequestBody Task task) throws IOException {\\n        return ResponseEntity.ok(\"Task updated successfully\");\\n    }\\n\\n    private Path getPath() {\\n        return Paths.get(TASKS_FILE);\\n    }\\n\\n}\\n',\n",
      "  'src/main/java/com/example/model/Task.java': 'package com.example.model;\\n\\npublic class Task {\\n\\n    private String name;\\n\\n    public Task() {\\n    }\\n\\n    public Task(String name) {\\n        this.name = name;\\n    }\\n\\n    public String getName() {\\n        return name;\\n    }\\n\\n    public void setName(String name) {\\n        this.name = name;\\n    }\\n\\n}\\n',\n",
      "  'src/main/resources/application.properties': 'server.port=8080',\n",
      "  'src/main/resources/static/index.html': '<!DOCTYPE html>\\n<html lang=\"en\">\\n<head>\\n    <meta charset=\"UTF-8\">\\n    <meta name=\"viewport\" content=\"width=device-width, initial-scale=1.0\">\\n    <title>TODO List</title>\\n</head>\\n<body>\\n    <h1>Simple TODO List</h1>\\n    <ul id=\"task-list\"></ul>\\n    <input type=\"text\" id=\"task-input\" placeholder=\"New Task\">\\n    <button onclick=\"addTask()\">Add Task</button>\\n\\n    <script>\\n        async function fetchTasks() {\\n            let response = await fetch(\"/tasks\");\\n            let tasks = await response.json();\\n            document.getElementById(\"task-list\").innerHTML = tasks.map(task => `<li>${task.name}</li>`).join(\"\");\\n        }\\n\\n        async function addTask() {\\n            let task = { name: document.getElementById(\"task-input\").value };\\n            await fetch(\"/tasks\", { method: \"POST\", headers: { \"Content-Type\": \"application/json\" }, body: JSON.stringify(task) });\\n            fetchTasks();\\n        }\\n\\n        fetchTasks();\\n    </script>\\n</body>\\n</html>\\n',\n",
      "  'src/main/resources/templates/index.html': '<!DOCTYPE html>\\n<html lang=\"en\">\\n<head>\\n    <meta charset=\"UTF-8\">\\n    <meta name=\"viewport\" content=\"width=device-width, initial-scale=1.0\">\\n    <title>TODO List</title>\\n</head>\\n<body>\\n    <h1>Simple TODO List</h1>\\n    <ul id=\"task-list\"></ul>\\n    <input type=\"text\" id=\"task-input\" placeholder=\"New Task\">\\n    <button onclick=\"addTask()\">Add Task</button>\\n\\n    <script>\\n        async function fetchTasks() {\\n            let response = await fetch(\"/tasks\");\\n            let tasks = await response.json();\\n            document.getElementById(\"task-list\").innerHTML = tasks.map(task => `<li>${task.name}</li>`).join(\"\");\\n        }\\n\\n        async function addTask() {\\n            let task = { name: document.getElementById(\"task-input\").value };\\n            await fetch(\"/tasks\", { method: \"POST\", headers: { \"Content-Type\": \"application/json\" }, body: JSON.stringify(task) });\\n            fetchTasks();\\n        }\\n\\n        fetchTasks();\\n    </script>\\n</body>\\n</html>\\n',\n",
      "  'tasks.json': '[{\"name\": \"work\"}, {\"name\": \"done\"}, {\"name\": \"T3\"}, {\"name\": \"XYZ\"}]'}\n",
      "```\n",
      "\n",
      "To ensure that the migrated Spring Boot application works properly, you can run it locally using the Maven build tool. Here are the steps:\n",
      "\n",
      "1. Create a directory for the project and navigate into it in your terminal.\n",
      "2. Create the required directories and files using the following commands:\n",
      "\n",
      "```\n",
      "# Assisted by watsonx Code Assistant \n",
      "mkdir -p src/main/java/com/example/controller src/main/java/com/example/model src/main/resources/static src/main/resources/templates\n",
      "touch pom.xml src/main/java/com/example/DemoApplication.java src/main/resources/application.properties tasks.json\n",
      "```\n",
      "\n",
      "3. Copy and paste the code from the dictionary into the corresponding files.\n",
      "4. Build and run the application using the following commands:\n",
      "\n",
      "```\n",
      "# Assisted by watsonx Code Assistant \n",
      "mvn package\n",
      "mvn spring-boot:run\n",
      "```\n",
      "\n",
      "5. Open your web browser and navigate to http://localhost:8080. You should see the TODO list application running.\n",
      "\n",
      "Note: The application uses a JSON file to store tasks, which is located in the project directory. The file is created automatically when you run the application for the first time.\n"
     ]
    },
    {
     "data": {
      "text/plain": [
       "'Sure, I can help you with that. Here\\'s the migrated Spring Boot application code in a dictionary, where the keys are filepaths and the values are the code:\\n\\n```\\n# Assisted by watsonx Code Assistant \\n{\\n  \\'pom.xml\\': \\'<project xmlns=\"http://maven.apache.org/POM/4.0.0\" xmlns:xsi=\"http://www.w3.org/2001/XMLSchema-instance\" xsi:schemaLocation=\"http://maven.apache.org/POM/4.0.0 https://maven.apache.org/xsd/maven-4.0.0.xsd\">\\\\n  <modelVersion>4.0.0</modelVersion>\\\\n  <groupId>com.example</groupId>\\\\n  <artifactId>demo</artifactId>\\\\n  <version>0.0.1-SNAPSHOT</version>\\\\n  <dependencies>\\\\n    <dependency>\\\\n      <groupId>org.springframework.boot</groupId>\\\\n      <artifactId>spring-boot-starter-web</artifactId>\\\\n    </dependency>\\\\n  </dependencies>\\\\n  <build>\\\\n    <plugins>\\\\n      <plugin>\\\\n        <groupId>org.springframework.boot</groupId>\\\\n        <artifactId>spring-boot-maven-plugin</artifactId>\\\\n      </plugin>\\\\n    </plugins>\\\\n  </build>\\\\n</project>\\',\\n  \\'src/main/java/com/example/DemoApplication.java\\': \\'package com.example;\\\\n\\\\nimport org.springframework.boot.SpringApplication;\\\\nimport org.springframework.boot.autoconfigure.SpringBootApplication;\\\\n\\\\n@SpringBootApplication\\\\npublic class DemoApplication {\\\\n\\\\n  public static void main(String[] args) {\\\\n    SpringApplication.run(DemoApplication.class, args);\\\\n  }\\\\n\\\\n}\\\\n\\',\\n  \\'src/main/java/com/example/controller/TaskController.java\\': \\'package com.example.controller;\\\\n\\\\nimport java.io.IOException;\\\\nimport java.nio.file.Files;\\\\nimport java.nio.file.Path;\\\\nimport java.nio.file.Paths;\\\\nimport java.util.List;\\\\nimport java.util.stream.Collectors;\\\\n\\\\nimport org.springframework.http.HttpStatus;\\\\nimport org.springframework.http.ResponseEntity;\\\\nimport org.springframework.web.bind.annotation.CrossOrigin;\\\\nimport org.springframework.web.bind.annotation.DeleteMapping;\\\\nimport org.springframework.web.bind.annotation.GetMapping;\\\\nimport org.springframework.web.bind.annotation.PathVariable;\\\\nimport org.springframework.web.bind.annotation.PostMapping;\\\\nimport org.springframework.web.bind.annotation.PutMapping;\\\\nimport org.springframework.web.bind.annotation.RequestBody;\\\\nimport org.springframework.web.bind.annotation.RequestMapping;\\\\nimport org.springframework.web.bind.annotation.RestController;\\\\n\\\\nimport com.example.model.Task;\\\\n\\\\n@RestController\\\\n@RequestMapping(\"/tasks\")\\\\n@CrossOrigin\\\\npublic class TaskController {\\\\n\\\\n    private static final String TASKS_FILE = \"tasks.json\";\\\\n\\\\n    @GetMapping\\\\n    public ResponseEntity<List<Task>> getTasks() throws IOException {\\\\n        String json = Files.readString(getPath());\\\\n        return ResponseEntity.ok(List.of(json.split(\",\")).stream().map(Task::new).collect(Collectors.toList()));\\\\n    }\\\\n\\\\n    @PostMapping\\\\n    public ResponseEntity<String> addTask(@RequestBody Task task) throws IOException {\\\\n        String tasks = Files.readString(getPath());\\\\n        tasks += \",\" + task.getName();\\\\n        Files.writeString(getPath(), tasks);\\\\n        return ResponseEntity.status(HttpStatus.CREATED).body(\"Task added successfully\");\\\\n    }\\\\n\\\\n    @DeleteMapping(\"/{id}\")\\\\n    public ResponseEntity<String> deleteTask(@PathVariable(\"id\") int id) throws IOException {\\\\n        return ResponseEntity.ok(\"Task deleted successfully\");\\\\n    }\\\\n\\\\n    @PutMapping(\"/{id}\")\\\\n    public ResponseEntity<String> updateTask(@PathVariable(\"id\") int id, @RequestBody Task task) throws IOException {\\\\n        return ResponseEntity.ok(\"Task updated successfully\");\\\\n    }\\\\n\\\\n    private Path getPath() {\\\\n        return Paths.get(TASKS_FILE);\\\\n    }\\\\n\\\\n}\\\\n\\',\\n  \\'src/main/java/com/example/model/Task.java\\': \\'package com.example.model;\\\\n\\\\npublic class Task {\\\\n\\\\n    private String name;\\\\n\\\\n    public Task() {\\\\n    }\\\\n\\\\n    public Task(String name) {\\\\n        this.name = name;\\\\n    }\\\\n\\\\n    public String getName() {\\\\n        return name;\\\\n    }\\\\n\\\\n    public void setName(String name) {\\\\n        this.name = name;\\\\n    }\\\\n\\\\n}\\\\n\\',\\n  \\'src/main/resources/application.properties\\': \\'server.port=8080\\',\\n  \\'src/main/resources/static/index.html\\': \\'<!DOCTYPE html>\\\\n<html lang=\"en\">\\\\n<head>\\\\n    <meta charset=\"UTF-8\">\\\\n    <meta name=\"viewport\" content=\"width=device-width, initial-scale=1.0\">\\\\n    <title>TODO List</title>\\\\n</head>\\\\n<body>\\\\n    <h1>Simple TODO List</h1>\\\\n    <ul id=\"task-list\"></ul>\\\\n    <input type=\"text\" id=\"task-input\" placeholder=\"New Task\">\\\\n    <button onclick=\"addTask()\">Add Task</button>\\\\n\\\\n    <script>\\\\n        async function fetchTasks() {\\\\n            let response = await fetch(\"/tasks\");\\\\n            let tasks = await response.json();\\\\n            document.getElementById(\"task-list\").innerHTML = tasks.map(task => `<li>${task.name}</li>`).join(\"\");\\\\n        }\\\\n\\\\n        async function addTask() {\\\\n            let task = { name: document.getElementById(\"task-input\").value };\\\\n            await fetch(\"/tasks\", { method: \"POST\", headers: { \"Content-Type\": \"application/json\" }, body: JSON.stringify(task) });\\\\n            fetchTasks();\\\\n        }\\\\n\\\\n        fetchTasks();\\\\n    </script>\\\\n</body>\\\\n</html>\\\\n\\',\\n  \\'src/main/resources/templates/index.html\\': \\'<!DOCTYPE html>\\\\n<html lang=\"en\">\\\\n<head>\\\\n    <meta charset=\"UTF-8\">\\\\n    <meta name=\"viewport\" content=\"width=device-width, initial-scale=1.0\">\\\\n    <title>TODO List</title>\\\\n</head>\\\\n<body>\\\\n    <h1>Simple TODO List</h1>\\\\n    <ul id=\"task-list\"></ul>\\\\n    <input type=\"text\" id=\"task-input\" placeholder=\"New Task\">\\\\n    <button onclick=\"addTask()\">Add Task</button>\\\\n\\\\n    <script>\\\\n        async function fetchTasks() {\\\\n            let response = await fetch(\"/tasks\");\\\\n            let tasks = await response.json();\\\\n            document.getElementById(\"task-list\").innerHTML = tasks.map(task => `<li>${task.name}</li>`).join(\"\");\\\\n        }\\\\n\\\\n        async function addTask() {\\\\n            let task = { name: document.getElementById(\"task-input\").value };\\\\n            await fetch(\"/tasks\", { method: \"POST\", headers: { \"Content-Type\": \"application/json\" }, body: JSON.stringify(task) });\\\\n            fetchTasks();\\\\n        }\\\\n\\\\n        fetchTasks();\\\\n    </script>\\\\n</body>\\\\n</html>\\\\n\\',\\n  \\'tasks.json\\': \\'[{\"name\": \"work\"}, {\"name\": \"done\"}, {\"name\": \"T3\"}, {\"name\": \"XYZ\"}]\\'}\\n```\\n\\nTo ensure that the migrated Spring Boot application works properly, you can run it locally using the Maven build tool. Here are the steps:\\n\\n1. Create a directory for the project and navigate into it in your terminal.\\n2. Create the required directories and files using the following commands:\\n\\n```\\n# Assisted by watsonx Code Assistant \\nmkdir -p src/main/java/com/example/controller src/main/java/com/example/model src/main/resources/static src/main/resources/templates\\ntouch pom.xml src/main/java/com/example/DemoApplication.java src/main/resources/application.properties tasks.json\\n```\\n\\n3. Copy and paste the code from the dictionary into the corresponding files.\\n4. Build and run the application using the following commands:\\n\\n```\\n# Assisted by watsonx Code Assistant \\nmvn package\\nmvn spring-boot:run\\n```\\n\\n5. Open your web browser and navigate to http://localhost:8080. You should see the TODO list application running.\\n\\nNote: The application uses a JSON file to store tasks, which is located in the project directory. The file is created automatically when you run the application for the first time.'"
      ]
     },
     "execution_count": 11,
     "metadata": {},
     "output_type": "execute_result"
    }
   ],
   "source": [
    "prompt = f\"\"\"Here's my sample python application, which take input from user through webpage and stores it in tasks.json. \n",
    "        Here's dict structure with keys are filenames and values as the corresponding code of my python application:\n",
    "        ``` {python_files} ```\n",
    "\n",
    "        I want to migrate my python application to springboot framework. I'm using Maven 3.9.9 and java 21.0.4. Follow below instructions:\n",
    "        - Generate the corresponding springboot application code in dict structure, where keys are filepaths and corresponding values contain code. \n",
    "        - Make sure, the generated springboot code runs similar to python application with proper webpage and taking data from user and stores the data into tasks.json.\n",
    "        - Also generate all the necessary files for a successful maven build.\n",
    "\n",
    "        Now generate the code in dict\n",
    "        \"\"\"\n",
    "response = call_wca_api(prompt)\n",
    "response"
   ]
  },
  {
   "cell_type": "markdown",
   "metadata": {},
   "source": [
    "### 5. Save the generated springboot code in **java-todo-app** base directory"
   ]
  },
  {
   "cell_type": "code",
   "execution_count": 13,
   "metadata": {},
   "outputs": [
    {
     "name": "stdout",
     "output_type": "stream",
     "text": [
      "Project structure created under './java-todo-app'\n"
     ]
    },
    {
     "data": {
      "text/plain": [
       "'{\\n  \\'pom.xml\\': \\'<project xmlns=\"http://maven.apache.org/POM/4.0.0\" xmlns:xsi=\"http://www.w3.org/2001/XMLSchema-instance\" xsi:schemaLocation=\"http://maven.apache.org/POM/4.0.0 https://maven.apache.org/xsd/maven-4.0.0.xsd\">\\\\n  <modelVersion>4.0.0</modelVersion>\\\\n  <groupId>com.example</groupId>\\\\n  <artifactId>demo</artifactId>\\\\n  <version>0.0.1-SNAPSHOT</version>\\\\n  <dependencies>\\\\n    <dependency>\\\\n      <groupId>org.springframework.boot</groupId>\\\\n      <artifactId>spring-boot-starter-web</artifactId>\\\\n    </dependency>\\\\n  </dependencies>\\\\n  <build>\\\\n    <plugins>\\\\n      <plugin>\\\\n        <groupId>org.springframework.boot</groupId>\\\\n        <artifactId>spring-boot-maven-plugin</artifactId>\\\\n      </plugin>\\\\n    </plugins>\\\\n  </build>\\\\n</project>\\',\\n  \\'src/main/java/com/example/DemoApplication.java\\': \\'package com.example;\\\\n\\\\nimport org.springframework.boot.SpringApplication;\\\\nimport org.springframework.boot.autoconfigure.SpringBootApplication;\\\\n\\\\n@SpringBootApplication\\\\npublic class DemoApplication {\\\\n\\\\n  public static void main(String[] args) {\\\\n    SpringApplication.run(DemoApplication.class, args);\\\\n  }\\\\n\\\\n}\\\\n\\',\\n  \\'src/main/java/com/example/controller/TaskController.java\\': \\'package com.example.controller;\\\\n\\\\nimport java.io.IOException;\\\\nimport java.nio.file.Files;\\\\nimport java.nio.file.Path;\\\\nimport java.nio.file.Paths;\\\\nimport java.util.List;\\\\nimport java.util.stream.Collectors;\\\\n\\\\nimport org.springframework.http.HttpStatus;\\\\nimport org.springframework.http.ResponseEntity;\\\\nimport org.springframework.web.bind.annotation.CrossOrigin;\\\\nimport org.springframework.web.bind.annotation.DeleteMapping;\\\\nimport org.springframework.web.bind.annotation.GetMapping;\\\\nimport org.springframework.web.bind.annotation.PathVariable;\\\\nimport org.springframework.web.bind.annotation.PostMapping;\\\\nimport org.springframework.web.bind.annotation.PutMapping;\\\\nimport org.springframework.web.bind.annotation.RequestBody;\\\\nimport org.springframework.web.bind.annotation.RequestMapping;\\\\nimport org.springframework.web.bind.annotation.RestController;\\\\n\\\\nimport com.example.model.Task;\\\\n\\\\n@RestController\\\\n@RequestMapping(\"/tasks\")\\\\n@CrossOrigin\\\\npublic class TaskController {\\\\n\\\\n    private static final String TASKS_FILE = \"tasks.json\";\\\\n\\\\n    @GetMapping\\\\n    public ResponseEntity<List<Task>> getTasks() throws IOException {\\\\n        String json = Files.readString(getPath());\\\\n        return ResponseEntity.ok(List.of(json.split(\",\")).stream().map(Task::new).collect(Collectors.toList()));\\\\n    }\\\\n\\\\n    @PostMapping\\\\n    public ResponseEntity<String> addTask(@RequestBody Task task) throws IOException {\\\\n        String tasks = Files.readString(getPath());\\\\n        tasks += \",\" + task.getName();\\\\n        Files.writeString(getPath(), tasks);\\\\n        return ResponseEntity.status(HttpStatus.CREATED).body(\"Task added successfully\");\\\\n    }\\\\n\\\\n    @DeleteMapping(\"/{id}\")\\\\n    public ResponseEntity<String> deleteTask(@PathVariable(\"id\") int id) throws IOException {\\\\n        return ResponseEntity.ok(\"Task deleted successfully\");\\\\n    }\\\\n\\\\n    @PutMapping(\"/{id}\")\\\\n    public ResponseEntity<String> updateTask(@PathVariable(\"id\") int id, @RequestBody Task task) throws IOException {\\\\n        return ResponseEntity.ok(\"Task updated successfully\");\\\\n    }\\\\n\\\\n    private Path getPath() {\\\\n        return Paths.get(TASKS_FILE);\\\\n    }\\\\n\\\\n}\\\\n\\',\\n  \\'src/main/java/com/example/model/Task.java\\': \\'package com.example.model;\\\\n\\\\npublic class Task {\\\\n\\\\n    private String name;\\\\n\\\\n    public Task() {\\\\n    }\\\\n\\\\n    public Task(String name) {\\\\n        this.name = name;\\\\n    }\\\\n\\\\n    public String getName() {\\\\n        return name;\\\\n    }\\\\n\\\\n    public void setName(String name) {\\\\n        this.name = name;\\\\n    }\\\\n\\\\n}\\\\n\\',\\n  \\'src/main/resources/application.properties\\': \\'server.port=8080\\',\\n  \\'src/main/resources/static/index.html\\': \\'<!DOCTYPE html>\\\\n<html lang=\"en\">\\\\n<head>\\\\n    <meta charset=\"UTF-8\">\\\\n    <meta name=\"viewport\" content=\"width=device-width, initial-scale=1.0\">\\\\n    <title>TODO List</title>\\\\n</head>\\\\n<body>\\\\n    <h1>Simple TODO List</h1>\\\\n    <ul id=\"task-list\"></ul>\\\\n    <input type=\"text\" id=\"task-input\" placeholder=\"New Task\">\\\\n    <button onclick=\"addTask()\">Add Task</button>\\\\n\\\\n    <script>\\\\n        async function fetchTasks() {\\\\n            let response = await fetch(\"/tasks\");\\\\n            let tasks = await response.json();\\\\n            document.getElementById(\"task-list\").innerHTML = tasks.map(task => `<li>${task.name}</li>`).join(\"\");\\\\n        }\\\\n\\\\n        async function addTask() {\\\\n            let task = { name: document.getElementById(\"task-input\").value };\\\\n            await fetch(\"/tasks\", { method: \"POST\", headers: { \"Content-Type\": \"application/json\" }, body: JSON.stringify(task) });\\\\n            fetchTasks();\\\\n        }\\\\n\\\\n        fetchTasks();\\\\n    </script>\\\\n</body>\\\\n</html>\\\\n\\',\\n  \\'src/main/resources/templates/index.html\\': \\'<!DOCTYPE html>\\\\n<html lang=\"en\">\\\\n<head>\\\\n    <meta charset=\"UTF-8\">\\\\n    <meta name=\"viewport\" content=\"width=device-width, initial-scale=1.0\">\\\\n    <title>TODO List</title>\\\\n</head>\\\\n<body>\\\\n    <h1>Simple TODO List</h1>\\\\n    <ul id=\"task-list\"></ul>\\\\n    <input type=\"text\" id=\"task-input\" placeholder=\"New Task\">\\\\n    <button onclick=\"addTask()\">Add Task</button>\\\\n\\\\n    <script>\\\\n        async function fetchTasks() {\\\\n            let response = await fetch(\"/tasks\");\\\\n            let tasks = await response.json();\\\\n            document.getElementById(\"task-list\").innerHTML = tasks.map(task => `<li>${task.name}</li>`).join(\"\");\\\\n        }\\\\n\\\\n        async function addTask() {\\\\n            let task = { name: document.getElementById(\"task-input\").value };\\\\n            await fetch(\"/tasks\", { method: \"POST\", headers: { \"Content-Type\": \"application/json\" }, body: JSON.stringify(task) });\\\\n            fetchTasks();\\\\n        }\\\\n\\\\n        fetchTasks();\\\\n    </script>\\\\n</body>\\\\n</html>\\\\n\\',\\n  \\'tasks.json\\': \\'[{\"name\": \"work\"}, {\"name\": \"done\"}, {\"name\": \"T3\"}, {\"name\": \"XYZ\"}]\\'}'"
      ]
     },
     "execution_count": 13,
     "metadata": {},
     "output_type": "execute_result"
    }
   ],
   "source": [
    "# Generate java files from LLM output\n",
    "\n",
    "def generateAppFiles(response_str):\n",
    "    # Extract dictionary part from string\n",
    "    start_idx = response_str.find(\"{\")\n",
    "    end_idx = response_str.rfind(\"}\") + 1\n",
    "    code_dict_str = response_str[start_idx:end_idx]\n",
    "\n",
    "    # Convert string to dictionary\n",
    "    code_dict = ast.literal_eval(code_dict_str)\n",
    "\n",
    "    # Define base directory\n",
    "    base_dir = \"./java-todo-app\"\n",
    "\n",
    "    # Create directory structure and save files\n",
    "    for filepath, content in code_dict.items():\n",
    "        full_path = os.path.join(base_dir, filepath)\n",
    "        os.makedirs(os.path.dirname(full_path), exist_ok=True)\n",
    "        \n",
    "        with open(full_path, \"w\", encoding=\"utf-8\") as file:\n",
    "            file.write(content)\n",
    "\n",
    "    print(f\"Project structure created under '{base_dir}'\")\n",
    "\n",
    "    return code_dict_str\n",
    "\n",
    "code_dict_str = generateAppFiles(response)\n",
    "code_dict_str"
   ]
  },
  {
   "cell_type": "markdown",
   "metadata": {},
   "source": [
    "### 6. Compile and Run the generated **java-todo-app** using mvn\n",
    "Open new terminal\n",
    "* cd <path/to/dir>/java-todo-app\n",
    "* mvn clean\n",
    "* mvn spring-boot:run\n"
   ]
  },
  {
   "cell_type": "markdown",
   "metadata": {},
   "source": [
    "### 7. Fix potential errors using WCA API\n",
    "\n",
    "Incase you encounter any errors upon compiling / running the migrated java application. Follow the below steps to resolve it using WCA API\n",
    "1. Create a new **error.txt** file. Copy the corrresponding error into **error.txt**. \n",
    "-   (*Suggestion: Incase of multiple errors, copy the first couple of errors*) \n",
    "- Error upon **mvn clean** might look something like this, here I've selected first two errors:\n",
    "\n",
    "    - <img src=\"https://github.ibm.com/watsonx-apac/wca-workshop-2025/tree/main/6-wca-api-python-to-java-modernization/images/mvn_clean_error.png\" width=\"400\">\n",
    "    - <img src=\"./images/mvn_clean_error.png\" width=\"400\">\n",
    "\n",
    "2. Save **error.txt** inside **java-todo-app** directory and proceed with the next code block below."
   ]
  },
  {
   "cell_type": "code",
   "execution_count": 14,
   "metadata": {},
   "outputs": [
    {
     "name": "stdout",
     "output_type": "stream",
     "text": [
      "\n",
      "✅ Read and cleaned error.txt! Saved as ./java-todo-app/error_clean.txt.\n",
      "\n"
     ]
    }
   ],
   "source": [
    "def read_error_log(error_file=\"./java-todo-app/error.txt\", cleaned_error_file=\"./java-todo-app/error_clean.txt\", max_lines=30):\n",
    "    \n",
    "    \"\"\"Reads the error log from error.txt, removes unnecessary text before 'java-todo-app/src', \n",
    "       saves the cleaned error log as error_clean.txt, and returns only the first N lines (max lines).\n",
    "    \"\"\"\n",
    "    \n",
    "    if not os.path.exists(error_file):\n",
    "        print(\"No error log found.\")\n",
    "        return \"No error log found.\"\n",
    "\n",
    "    else:\n",
    "        cleaned_lines = []\n",
    "        \n",
    "        with open(error_file, \"r\", encoding=\"utf-8\") as f:\n",
    "            for line in f:\n",
    "                # If \"java-todo-app/src\" is in the line, remove everything before it\n",
    "                if \"/java-todo-app/\" in line:\n",
    "                    line = re.sub(r\".*?(java-todo-app/)\", r\"/\\1\", line)\n",
    "                \n",
    "                cleaned_lines.append(line.strip())\n",
    "\n",
    "        # Save the full cleaned error log as error_clean.txt\n",
    "        with open(cleaned_error_file, \"w\", encoding=\"utf-8\") as f:\n",
    "            f.write(\"\\n\".join(cleaned_lines))\n",
    "\n",
    "        print(f\"\\n✅ Read and cleaned error.txt! Saved as {cleaned_error_file}.\\n\")\n",
    "        \n",
    "        # Return only the first `max_lines` of cleaned lines\n",
    "        return \"\\n\".join(cleaned_lines[:max_lines])\n",
    "    \n",
    "error_str = read_error_log()"
   ]
  },
  {
   "cell_type": "code",
   "execution_count": 15,
   "metadata": {},
   "outputs": [
    {
     "name": "stdout",
     "output_type": "stream",
     "text": [
      "WCA API response: \n",
      "  Sure, I'd be happy to help you with that. Here's what I can do:\n",
      "\n",
      "1. **Analyze the error:**\n",
      "\n",
      "The error message suggests that the `spring-boot-maven-plugin` is not configured correctly in the `pom.xml` file. And the `spring-boot-starter-web` dependency is also missing a version number.\n",
      "\n",
      "2. **Update the code to resolve the error:**\n",
      "\n",
      "To resolve the error, you can update the `pom.xml` file to include the `spring-boot-maven-plugin` and specify the version of the `spring-boot-starter-web` dependency. Here's the updated `pom.xml` file:\n",
      "\n",
      "```xml\n",
      "// Assisted by watsonx Code Assistant \n",
      "// watsonx Code Assistant did not check whether this code suggestion might be similar to third party code.\n",
      "<project xmlns=\"http://maven.apache.org/POM/4.0.0\" xmlns:xsi=\"http://www.w3.org/2001/XMLSchema-instance\" xsi:schemaLocation=\"http://maven.apache.org/POM/4.0.0 https://maven.apache.org/xsd/maven-4.0.0.xsd\">\n",
      "  <modelVersion>4.0.0</modelVersion>\n",
      "  <groupId>com.example</groupId>\n",
      "  <artifactId>demo</artifactId>\n",
      "  <version>0.0.1-SNAPSHOT</version>\n",
      "  <dependencies>\n",
      "    <dependency>\n",
      "      <groupId>org.springframework.boot</groupId>\n",
      "      <artifactId>spring-boot-starter-web</artifactId>\n",
      "      <version>2.6.3</version>\n",
      "    </dependency>\n",
      "  </dependencies>\n",
      "  <build>\n",
      "    <plugins>\n",
      "      <plugin>\n",
      "        <groupId>org.springframework.boot</groupId>\n",
      "        <artifactId>spring-boot-maven-plugin</artifactId>\n",
      "        <version>2.6.3</version>\n",
      "      </plugin>\n",
      "    </plugins>\n",
      "  </build>\n",
      "</project>\n",
      "```\n",
      "\n",
      "Once you've made the changes to the `pom.xml` file, you can run the application by executing the following command:\n",
      "\n",
      "```bash\n",
      "// Assisted by watsonx Code Assistant \n",
      "// watsonx Code Assistant did not check whether this code suggestion might be similar to third party code.\n",
      "mvn spring-boot:run\n",
      "```\n",
      "\n",
      "This will start the application and you should be able to access it at http://localhost:8080.\n"
     ]
    },
    {
     "data": {
      "text/plain": [
       "'Sure, I\\'d be happy to help you with that. Here\\'s what I can do:\\n\\n1. **Analyze the error:**\\n\\nThe error message suggests that the `spring-boot-maven-plugin` is not configured correctly in the `pom.xml` file. And the `spring-boot-starter-web` dependency is also missing a version number.\\n\\n2. **Update the code to resolve the error:**\\n\\nTo resolve the error, you can update the `pom.xml` file to include the `spring-boot-maven-plugin` and specify the version of the `spring-boot-starter-web` dependency. Here\\'s the updated `pom.xml` file:\\n\\n```xml\\n// Assisted by watsonx Code Assistant \\n// watsonx Code Assistant did not check whether this code suggestion might be similar to third party code.\\n<project xmlns=\"http://maven.apache.org/POM/4.0.0\" xmlns:xsi=\"http://www.w3.org/2001/XMLSchema-instance\" xsi:schemaLocation=\"http://maven.apache.org/POM/4.0.0 https://maven.apache.org/xsd/maven-4.0.0.xsd\">\\n  <modelVersion>4.0.0</modelVersion>\\n  <groupId>com.example</groupId>\\n  <artifactId>demo</artifactId>\\n  <version>0.0.1-SNAPSHOT</version>\\n  <dependencies>\\n    <dependency>\\n      <groupId>org.springframework.boot</groupId>\\n      <artifactId>spring-boot-starter-web</artifactId>\\n      <version>2.6.3</version>\\n    </dependency>\\n  </dependencies>\\n  <build>\\n    <plugins>\\n      <plugin>\\n        <groupId>org.springframework.boot</groupId>\\n        <artifactId>spring-boot-maven-plugin</artifactId>\\n        <version>2.6.3</version>\\n      </plugin>\\n    </plugins>\\n  </build>\\n</project>\\n```\\n\\nOnce you\\'ve made the changes to the `pom.xml` file, you can run the application by executing the following command:\\n\\n```bash\\n// Assisted by watsonx Code Assistant \\n// watsonx Code Assistant did not check whether this code suggestion might be similar to third party code.\\nmvn spring-boot:run\\n```\\n\\nThis will start the application and you should be able to access it at http://localhost:8080.'"
      ]
     },
     "execution_count": 15,
     "metadata": {},
     "output_type": "execute_result"
    }
   ],
   "source": [
    "def fixCodeErrors(code_dict_str, error_str):\n",
    "    \n",
    "    \n",
    "    prompt = f\"\"\" Here's my springboot application present in dict format, where keys are filepaths and corresponding values contain code.\n",
    "                  Springboot applcation: \\n ``` {code_dict_str} ```\n",
    "\n",
    "                  Upon running the app I'm getting the following error: \\n ``` {error_str} ```\n",
    "\n",
    "                  Your task is to: \n",
    "                  1. Analyze the error \n",
    "                  2. Update the code to resolve the error to run the application successfully.\n",
    "                  \n",
    "            \"\"\"\n",
    "    \n",
    "    response = call_wca_api(prompt)\n",
    "\n",
    "    return response\n",
    "\n",
    "respose_errorlog = fixCodeErrors(code_dict_str, error_str)\n",
    "respose_errorlog"
   ]
  },
  {
   "cell_type": "markdown",
   "metadata": {},
   "source": [
    "- Next, Update the corresponding java files as per WCA API code fix suggestion.\n",
    "- Compile and Run the application again as illustrated in Section 6.\n",
    "    - mvn clean\n",
    "    - mvn spring-boot:run\n",
    "- Visit the folloing URL on your browser to use the springboot application: **http://127.0.0.1:8080/**\n",
    "- You can port info in: /java-todo-app/src/main/resources/application.properties\n",
    "\n",
    "**Note**: In some cases you might have to repeat Section 6 and 7 more than once, until the issue is fixed"
   ]
  },
  {
   "cell_type": "markdown",
   "metadata": {},
   "source": [
    "#### 8. Upon successful compile and run\n",
    "\n",
    "- **mvn clean** would look something like this:\n",
    "    - <img src=\"https://github.ibm.com/watsonx-apac/wca-workshop-2025/tree/main/6-wca-api-python-to-java-modernization/images/mvn_clean_success.png\" width=\"400\">\n",
    "    - <img src=\"./images/mvn_clean_success.png\" width=\"400\">\n",
    "    \n",
    "\n",
    "- **mvn spring-boot:run** would look something like this:\n",
    "    - <img src=\"https://github.ibm.com/watsonx-apac/wca-workshop-2025/tree/main/6-wca-api-python-to-java-modernization/images/mvn_run_p1.png\" width=\"400\">\n",
    "    - <img src=\"./images/mvn_run_p1.png\" width=\"400\">\n",
    "\n",
    "    - <img src=\"https://github.ibm.com/watsonx-apac/wca-workshop-2025/tree/main/6-wca-api-python-to-java-modernization/images/mvn_run_p2.png\" width=\"400\">\n",
    "    - <img src=\"./images/mvn_run_p2.png\" width=\"400\">\n",
    "\n",
    "- Your migrated springboot based app would look something like this:\n",
    "    - You can add a new task which will be stored in **tasks.json** present in **./java-todo-app/tasks.json**\n",
    "\n",
    "    - <img src=\"https://github.ibm.com/watsonx-apac/wca-workshop-2025/tree/main/6-wca-api-python-to-java-modernization/images/springboot-app.png\" width=\"400\">\n",
    "    - <img src=\"./images/springboot-app.png\" width=\"400\">"
   ]
  },
  {
   "cell_type": "code",
   "execution_count": null,
   "metadata": {},
   "outputs": [],
   "source": []
  }
 ],
 "metadata": {
  "kernelspec": {
   "display_name": "Python 3",
   "language": "python",
   "name": "python3"
  },
  "language_info": {
   "codemirror_mode": {
    "name": "ipython",
    "version": 3
   },
   "file_extension": ".py",
   "mimetype": "text/x-python",
   "name": "python",
   "nbconvert_exporter": "python",
   "pygments_lexer": "ipython3",
   "version": "3.11.6"
  }
 },
 "nbformat": 4,
 "nbformat_minor": 2
}
